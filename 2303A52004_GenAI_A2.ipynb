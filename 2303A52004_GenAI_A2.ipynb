{
  "nbformat": 4,
  "nbformat_minor": 0,
  "metadata": {
    "colab": {
      "provenance": [],
      "authorship_tag": "ABX9TyOHxuZ+Qn8vOCA5WyUJJm0g",
      "include_colab_link": true
    },
    "kernelspec": {
      "name": "python3",
      "display_name": "Python 3"
    },
    "language_info": {
      "name": "python"
    }
  },
  "cells": [
    {
      "cell_type": "markdown",
      "metadata": {
        "id": "view-in-github",
        "colab_type": "text"
      },
      "source": [
        "<a href=\"https://colab.research.google.com/github/BogaSirichandana/GenerativeAI_2303A52004/blob/main/2303A52004_GenAI_A2.ipynb\" target=\"_parent\"><img src=\"https://colab.research.google.com/assets/colab-badge.svg\" alt=\"Open In Colab\"/></a>"
      ]
    },
    {
      "cell_type": "code",
      "execution_count": 9,
      "metadata": {
        "colab": {
          "base_uri": "https://localhost:8080/"
        },
        "id": "RLP2YHhbPNrn",
        "outputId": "3ee25b0e-2cea-4d62-9e06-ef782ad2aba7"
      },
      "outputs": [
        {
          "output_type": "stream",
          "name": "stdout",
          "text": [
            "No of units of A = 2.00 and No of units of B = 3.00\n"
          ]
        },
        {
          "output_type": "stream",
          "name": "stderr",
          "text": [
            "<ipython-input-9-f50db82dea3b>:8: DeprecationWarning: `method='simplex'` is deprecated and will be removed in SciPy 1.11.0. Please use one of the HiGHS solvers (e.g. `method='highs'`) in new code.\n",
            "  opt=linprog(c=obj,A_ub=A_ieq,b_ub=B_ieq,bounds=boundaries,method=\"simplex\")\n"
          ]
        }
      ],
      "source": [
        "from scipy.optimize import linprog\n",
        "import math as mt\n",
        "import numpy as np\n",
        "obj=[-6,-5]\n",
        "A_ieq=[[1,1],[3,2]]\n",
        "B_ieq=[5,12]\n",
        "boundaries=[(0,float(\"inf\")),(0,float(\"inf\"))]\n",
        "opt=linprog(c=obj,A_ub=A_ieq,b_ub=B_ieq,bounds=boundaries,method=\"simplex\")\n",
        "choc_A=np.round(opt.x[0])\n",
        "choc_B=np.round(opt.x[1])\n",
        "print(\"No of units of A = %0.2f and No of units of B = %0.2f\" % (choc_A,choc_B))"
      ]
    },
    {
      "cell_type": "code",
      "source": [
        "from scipy.optimize import linprog\n",
        "import math as mt\n",
        "import numpy as np\n",
        "obj=[-50,-120]\n",
        "A_ieq=[[7000,2000],[10,30]]\n",
        "B_ieq=[700000,1200]\n",
        "A_eq=[[1,1]]\n",
        "B_eq=[100]\n",
        "bnd=[[0,float(\"inf\")],[0,float(\"inf\")]]\n",
        "opt=linprog(c=obj,A_ub=A_ieq,b_ub=B_ieq,A_eq=A_eq,b_eq=B_eq,bounds=bnd,method=\"simplex\")\n",
        "optimal_x=np.round(opt.x[0])\n",
        "optimal_y=np.round(opt.x[1])\n",
        "print(\"No of hectares of Wheat = %0.2f and No of hectares of Barley = %0.2f\" % (optimal_x,optimal_y))"
      ],
      "metadata": {
        "colab": {
          "base_uri": "https://localhost:8080/"
        },
        "id": "qeIPtT1jZp7H",
        "outputId": "ac9d5726-f0ff-45b8-df77-1cca38d3010c"
      },
      "execution_count": 10,
      "outputs": [
        {
          "output_type": "stream",
          "name": "stdout",
          "text": [
            "No of hectares of Wheat = 90.00 and No of hectares of Barley = 10.00\n"
          ]
        },
        {
          "output_type": "stream",
          "name": "stderr",
          "text": [
            "<ipython-input-10-85919287d7ca>:10: DeprecationWarning: `method='simplex'` is deprecated and will be removed in SciPy 1.11.0. Please use one of the HiGHS solvers (e.g. `method='highs'`) in new code.\n",
            "  opt=linprog(c=obj,A_ub=A_ieq,b_ub=B_ieq,A_eq=A_eq,b_eq=B_eq,bounds=bnd,method=\"simplex\")\n"
          ]
        }
      ]
    }
  ]
}